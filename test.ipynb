{
 "metadata": {
  "name": "",
  "signature": "sha256:aeacb423cd40028f42916f9788a33f4d11832af2cf0d3b4ab9fc496fc7c877c0"
 },
 "nbformat": 3,
 "nbformat_minor": 0,
 "worksheets": [
  {
   "cells": [
    {
     "cell_type": "code",
     "collapsed": false,
     "input": [
      "hi = 4\n",
      "hi>>"
     ],
     "language": "python",
     "metadata": {},
     "outputs": [
      {
       "ename": "SyntaxError",
       "evalue": "invalid syntax (<ipython-input-56-6247bab2ba3e>, line 2)",
       "output_type": "pyerr",
       "traceback": [
        "\u001b[1;36m  File \u001b[1;32m\"<ipython-input-56-6247bab2ba3e>\"\u001b[1;36m, line \u001b[1;32m2\u001b[0m\n\u001b[1;33m    hi>>\u001b[0m\n\u001b[1;37m        ^\u001b[0m\n\u001b[1;31mSyntaxError\u001b[0m\u001b[1;31m:\u001b[0m invalid syntax\n"
       ]
      }
     ],
     "prompt_number": 56
    },
    {
     "cell_type": "code",
     "collapsed": true,
     "input": [
      "import time\n",
      "for i in range(10):\n",
      "    time.sleep(1)\n",
      "    print 'ho', i"
     ],
     "language": "python",
     "metadata": {},
     "outputs": [
      {
       "output_type": "stream",
       "stream": "stdout",
       "text": [
        "ho 0\n",
        "ho"
       ]
      },
      {
       "output_type": "stream",
       "stream": "stdout",
       "text": [
        " 1\n",
        "ho"
       ]
      },
      {
       "output_type": "stream",
       "stream": "stdout",
       "text": [
        " 2\n",
        "ho"
       ]
      },
      {
       "output_type": "stream",
       "stream": "stdout",
       "text": [
        " 3\n",
        "ho"
       ]
      },
      {
       "output_type": "stream",
       "stream": "stdout",
       "text": [
        " 4\n",
        "ho"
       ]
      },
      {
       "output_type": "stream",
       "stream": "stdout",
       "text": [
        " 5\n",
        "ho"
       ]
      },
      {
       "output_type": "stream",
       "stream": "stdout",
       "text": [
        " 6\n",
        "ho"
       ]
      },
      {
       "output_type": "stream",
       "stream": "stdout",
       "text": [
        " 7\n",
        "ho"
       ]
      },
      {
       "output_type": "stream",
       "stream": "stdout",
       "text": [
        " 8\n",
        "ho"
       ]
      },
      {
       "output_type": "stream",
       "stream": "stdout",
       "text": [
        " 9\n"
       ]
      }
     ],
     "prompt_number": 30
    },
    {
     "cell_type": "code",
     "collapsed": false,
     "input": [
      "raw_input('hi')>>"
     ],
     "language": "python",
     "metadata": {},
     "outputs": [
      {
       "ename": "SyntaxError",
       "evalue": "invalid syntax (<ipython-input-60-d2b43f838dd1>, line 1)",
       "output_type": "pyerr",
       "traceback": [
        "\u001b[1;36m  File \u001b[1;32m\"<ipython-input-60-d2b43f838dd1>\"\u001b[1;36m, line \u001b[1;32m1\u001b[0m\n\u001b[1;33m    raw_input('hi')>>\u001b[0m\n\u001b[1;37m                     ^\u001b[0m\n\u001b[1;31mSyntaxError\u001b[0m\u001b[1;31m:\u001b[0m invalid syntax\n"
       ]
      }
     ],
     "prompt_number": 60
    },
    {
     "cell_type": "code",
     "collapsed": false,
     "input": [
      "'hi'*100"
     ],
     "language": "python",
     "metadata": {},
     "outputs": [
      {
       "metadata": {},
       "output_type": "pyout",
       "prompt_number": 94,
       "text": [
        "'hihihihihihihihihihihihihihihihihihihihihihihihihihihihihihihihihihihihihihihihihihihihihihihihihihihihihihihihihihihihihihihihihihihihihihihihihihihihihihihihihihihihihihihihihihihihihihihihihihihihi'"
       ]
      }
     ],
     "prompt_number": 94
    },
    {
     "cell_type": "code",
     "collapsed": false,
     "input": [
      "%%latex\n",
      "x+1^23"
     ],
     "language": "python",
     "metadata": {},
     "outputs": [
      {
       "latex": [
        "x+1^23"
       ],
       "metadata": {},
       "output_type": "display_data",
       "text": [
        "<IPython.core.display.Latex at 0x1b43950>"
       ]
      }
     ],
     "prompt_number": 17
    },
    {
     "cell_type": "code",
     "collapsed": false,
     "input": [
      "from IPython.display import Image"
     ],
     "language": "python",
     "metadata": {},
     "outputs": [],
     "prompt_number": 18
    },
    {
     "cell_type": "code",
     "collapsed": false,
     "input": [
      "Image(url='http://python.org/images/python-logo.gif')"
     ],
     "language": "python",
     "metadata": {},
     "outputs": [
      {
       "html": [
        "<img src=\"http://python.org/images/python-logo.gif\"/>"
       ],
       "metadata": {},
       "output_type": "pyout",
       "prompt_number": 19,
       "text": [
        "<IPython.core.display.Image at 0x1b43b90>"
       ]
      }
     ],
     "prompt_number": 19
    },
    {
     "cell_type": "code",
     "collapsed": false,
     "input": [
      "from IPython.display import FileLink, FileLinks\n",
      "FileLink('test.ipynb')"
     ],
     "language": "python",
     "metadata": {},
     "outputs": [
      {
       "html": [
        "<a href='test.ipynb' target='_blank'>test.ipynb</a><br>"
       ],
       "metadata": {},
       "output_type": "pyout",
       "prompt_number": 112,
       "text": [
        "/aml/home/jared/clone/itreed/test.ipynb"
       ]
      }
     ],
     "prompt_number": 112
    },
    {
     "cell_type": "code",
     "collapsed": true,
     "input": [
      "FileLinks('./lib')"
     ],
     "language": "python",
     "metadata": {},
     "outputs": [
      {
       "html": [
        "./lib/<br>\n",
        "&nbsp;&nbsp;<a href='./lib/uuid.js' target='_blank'>uuid.js</a><br>\n",
        "&nbsp;&nbsp;<a href='./lib/.node.js.swp' target='_blank'>.node.js.swp</a><br>\n",
        "&nbsp;&nbsp;<a href='./lib/kernel.js' target='_blank'>kernel.js</a><br>\n",
        "&nbsp;&nbsp;<a href='./lib/node.js' target='_blank'>node.js</a><br>\n",
        "&nbsp;&nbsp;<a href='./lib/actions.js' target='_blank'>actions.js</a><br>\n",
        "&nbsp;&nbsp;<a href='./lib/spinner.less' target='_blank'>spinner.less</a><br>\n",
        "&nbsp;&nbsp;<a href='./lib/.spinner.less.swp' target='_blank'>.spinner.less.swp</a><br>\n",
        "&nbsp;&nbsp;<a href='./lib/treed-plugin.js' target='_blank'>treed-plugin.js</a><br>\n",
        "&nbsp;&nbsp;<a href='./lib/.convert.js.swp' target='_blank'>.convert.js.swp</a><br>\n",
        "&nbsp;&nbsp;<a href='./lib/app.js' target='_blank'>app.js</a><br>\n",
        "&nbsp;&nbsp;<a href='./lib/extend.js' target='_blank'>extend.js</a><br>\n",
        "&nbsp;&nbsp;<a href='./lib/viewer.js' target='_blank'>viewer.js</a><br>\n",
        "&nbsp;&nbsp;<a href='./lib/treed-plugin.less' target='_blank'>treed-plugin.less</a><br>\n",
        "&nbsp;&nbsp;<a href='./lib/ipython-body.js' target='_blank'>ipython-body.js</a><br>\n",
        "&nbsp;&nbsp;<a href='./lib/.kernel.js.swp' target='_blank'>.kernel.js.swp</a><br>\n",
        "&nbsp;&nbsp;<a href='./lib/.actions.js.swp' target='_blank'>.actions.js.swp</a><br>\n",
        "&nbsp;&nbsp;<a href='./lib/.treed-plugin.less.swp' target='_blank'>.treed-plugin.less.swp</a><br>\n",
        "&nbsp;&nbsp;<a href='./lib/convert.js' target='_blank'>convert.js</a><br>"
       ],
       "metadata": {},
       "output_type": "pyout",
       "prompt_number": 116,
       "text": [
        "./lib/\n",
        "  uuid.js\n",
        "  .node.js.swp\n",
        "  kernel.js\n",
        "  node.js\n",
        "  actions.js\n",
        "  spinner.less\n",
        "  .spinner.less.swp\n",
        "  treed-plugin.js\n",
        "  .convert.js.swp\n",
        "  app.js\n",
        "  extend.js\n",
        "  viewer.js\n",
        "  treed-plugin.less\n",
        "  ipython-body.js\n",
        "  .kernel.js.swp\n",
        "  .actions.js.swp\n",
        "  .treed-plugin.less.swp\n",
        "  convert.js"
       ]
      }
     ],
     "prompt_number": 116
    },
    {
     "cell_type": "code",
     "collapsed": false,
     "input": [
      "from IPython.display import Image\n",
      "\n",
      "# by default Image data are embedded\n",
      "Embed      = Image(    'http://scienceview.berkeley.edu/view/images/newview.jpg')\n",
      "\n",
      "# if kwarg `url` is given, the embedding is assumed to be false\n",
      "SoftLinked = Image(url='http://scienceview.berkeley.edu/view/images/newview.jpg')\n"
     ],
     "language": "python",
     "metadata": {},
     "outputs": [],
     "prompt_number": 2
    },
    {
     "cell_type": "code",
     "collapsed": false,
     "input": [
      "Embed"
     ],
     "language": "python",
     "metadata": {},
     "outputs": [
      {
       "ename": "NameError",
       "evalue": "name 'Embed' is not defined",
       "output_type": "pyerr",
       "traceback": [
        "\u001b[1;31m---------------------------------------------------------------------------\u001b[0m\n\u001b[1;31mNameError\u001b[0m                                 Traceback (most recent call last)",
        "\u001b[1;32m<ipython-input-2-2f9547fae26a>\u001b[0m in \u001b[0;36m<module>\u001b[1;34m()\u001b[0m\n\u001b[1;32m----> 1\u001b[1;33m \u001b[0mEmbed\u001b[0m\u001b[1;33m\u001b[0m\u001b[0m\n\u001b[0m",
        "\u001b[1;31mNameError\u001b[0m: name 'Embed' is not defined"
       ]
      }
     ],
     "prompt_number": 2
    },
    {
     "cell_type": "code",
     "collapsed": false,
     "input": [
      "import IPython.display\n"
     ],
     "language": "python",
     "metadata": {},
     "outputs": [],
     "prompt_number": 3
    },
    {
     "cell_type": "code",
     "collapsed": false,
     "input": [
      "IPython.display.display(IPython.display.Image('http://google.com/favicon.png'))"
     ],
     "language": "python",
     "metadata": {},
     "outputs": [
      {
       "metadata": {},
       "output_type": "display_data",
       "text": [
        "<IPython.core.display.Image at 0x1aa9d50>"
       ]
      }
     ],
     "prompt_number": 11
    },
    {
     "cell_type": "code",
     "collapsed": false,
     "input": [
      "from IPython.display import HTML\n",
      "HTML('<iframe src=http://en.mobile.wikipedia.org/?useformat=mobile width=700 height=350></iframe>')"
     ],
     "language": "python",
     "metadata": {},
     "outputs": [
      {
       "html": [
        "<iframe src=http://en.mobile.wikipedia.org/?useformat=mobile width=700 height=350></iframe>"
       ],
       "metadata": {},
       "output_type": "pyout",
       "prompt_number": 12,
       "text": [
        "<IPython.core.display.HTML at 0x1aa9ed0>"
       ]
      }
     ],
     "prompt_number": 12
    },
    {
     "cell_type": "code",
     "collapsed": false,
     "input": [
      "from IPython.display import Math\n",
      "Math(r'F(k) = \\int_{-\\infty}^{\\infty} f(x) e^{2\\pi i k} dx')"
     ],
     "language": "python",
     "metadata": {},
     "outputs": [
      {
       "latex": [
        "$$F(k) = \\int_{-\\infty}^{\\infty} f(x) e^{2\\pi i k} dx$$"
       ],
       "metadata": {},
       "output_type": "pyout",
       "prompt_number": 19,
       "text": [
        "<IPython.core.display.Math at 0x1aa98d0>"
       ]
      }
     ],
     "prompt_number": 19
    },
    {
     "cell_type": "code",
     "collapsed": false,
     "input": [],
     "language": "python",
     "metadata": {},
     "outputs": []
    }
   ],
   "metadata": {}
  }
 ]
}